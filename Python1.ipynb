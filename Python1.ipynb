{
  "nbformat": 4,
  "nbformat_minor": 0,
  "metadata": {
    "colab": {
      "name": "Python1.ipynb",
      "provenance": []
    },
    "kernelspec": {
      "name": "python3",
      "display_name": "Python 3"
    }
  },
  "cells": [
    {
      "cell_type": "markdown",
      "metadata": {
        "id": "x00XxB2q7hfh",
        "colab_type": "text"
      },
      "source": [
        "*#Hello World*"
      ]
    },
    {
      "cell_type": "code",
      "metadata": {
        "id": "G4bY-tC_7qZo",
        "colab_type": "code",
        "colab": {
          "base_uri": "https://localhost:8080/",
          "height": 34
        },
        "outputId": "74ed6b2a-f0a8-4080-c5e7-2ee10681b066"
      },
      "source": [
        "print(\"Hello world\")"
      ],
      "execution_count": 1,
      "outputs": [
        {
          "output_type": "stream",
          "text": [
            "Hello world\n"
          ],
          "name": "stdout"
        }
      ]
    },
    {
      "cell_type": "markdown",
      "metadata": {
        "id": "is4-CkgtPkhV",
        "colab_type": "text"
      },
      "source": [
        "# Python Excercise from Kaggle"
      ]
    },
    {
      "cell_type": "code",
      "metadata": {
        "id": "59e0ftGfPqxU",
        "colab_type": "code",
        "colab": {
          "base_uri": "https://localhost:8080/",
          "height": 85
        },
        "outputId": "bc90769d-86c6-4b60-b0b9-67dbca2ca3af"
      },
      "source": [
        "spam_amount=0\n",
        "print(spam_amount)\n",
        "\n",
        "spam_amount=spam_amount+4\n",
        "print(spam_amount)\n",
        "\n",
        "if spam_amount>0:\n",
        "  print(\"I dont want any span!!\")\n",
        "\n",
        "viking_song=\"spam\"*spam_amount\n",
        "print(viking_song)"
      ],
      "execution_count": 5,
      "outputs": [
        {
          "output_type": "stream",
          "text": [
            "0\n",
            "4\n",
            "I dont want any span!!\n",
            "spamspamspamspam\n"
          ],
          "name": "stdout"
        }
      ]
    },
    {
      "cell_type": "code",
      "metadata": {
        "id": "5yK7pI0PS4yd",
        "colab_type": "code",
        "colab": {
          "base_uri": "https://localhost:8080/",
          "height": 51
        },
        "outputId": "1aa58d34-458a-424b-cc82-9f83971299e2"
      },
      "source": [
        "hat_height_cm = 25\n",
        "my_height_cm = 190\n",
        "# How tall am I, in meters, when wearing my hat?\n",
        "total_height_meters = hat_height_cm + my_height_cm / 100\n",
        "print(\"Height in meters =\", total_height_meters, \"?\")\n",
        "\n",
        "\n",
        "# Importance of Parenthesis\n",
        "total_height_meters = (hat_height_cm + my_height_cm) / 100\n",
        "print(\"Height in meters =\", total_height_meters)"
      ],
      "execution_count": 7,
      "outputs": [
        {
          "output_type": "stream",
          "text": [
            "Height in meters = 26.9 ?\n",
            "Height in meters = 2.15\n"
          ],
          "name": "stdout"
        }
      ]
    },
    {
      "cell_type": "markdown",
      "metadata": {
        "id": "yfsBN4Z3ThU4",
        "colab_type": "text"
      },
      "source": [
        "**Buildin Function**"
      ]
    },
    {
      "cell_type": "code",
      "metadata": {
        "id": "09bg5_4bTNMK",
        "colab_type": "code",
        "colab": {
          "base_uri": "https://localhost:8080/",
          "height": 85
        },
        "outputId": "7437623b-8e36-4888-af90-1ca99d08eaa2"
      },
      "source": [
        "print(min(1,4,5))\n",
        "print(max(6,7,3))\n",
        "\n",
        "print(abs(32))\n",
        "print(abs(-67))"
      ],
      "execution_count": 8,
      "outputs": [
        {
          "output_type": "stream",
          "text": [
            "1\n",
            "7\n",
            "32\n",
            "67\n"
          ],
          "name": "stdout"
        }
      ]
    },
    {
      "cell_type": "code",
      "metadata": {
        "id": "PSfYYu3nTo_H",
        "colab_type": "code",
        "colab": {
          "base_uri": "https://localhost:8080/",
          "height": 68
        },
        "outputId": "f81b1f67-1a9f-4ca0-da17-6282cf23e651"
      },
      "source": [
        "print(float(10))\n",
        "print(int(3.33))\n",
        "# They can even be called on strings!\n",
        "print(int('807') + 1)"
      ],
      "execution_count": 9,
      "outputs": [
        {
          "output_type": "stream",
          "text": [
            "10.0\n",
            "3\n",
            "808\n"
          ],
          "name": "stdout"
        }
      ]
    },
    {
      "cell_type": "markdown",
      "metadata": {
        "id": "TqA_11lOZA1I",
        "colab_type": "text"
      },
      "source": [
        "Area and Diameter"
      ]
    },
    {
      "cell_type": "code",
      "metadata": {
        "id": "rdo4b7kDY--r",
        "colab_type": "code",
        "colab": {
          "base_uri": "https://localhost:8080/",
          "height": 51
        },
        "outputId": "c18967ab-634e-4a0f-cfc0-10cc1e97d852"
      },
      "source": [
        "pi = 3.14159 # approximate\n",
        "diameter = 3\n",
        "\n",
        "# Create a variable called 'radius' equal to half the diameter\n",
        "radius=(1/2*diameter)\n",
        "print(radius)\n",
        "# Create a variable called 'area', using the formula for the area of a circle: pi times the radius squared\n",
        "area=pi*radius**2\n",
        "print(area)"
      ],
      "execution_count": 10,
      "outputs": [
        {
          "output_type": "stream",
          "text": [
            "1.5\n",
            "7.0685775\n"
          ],
          "name": "stdout"
        }
      ]
    },
    {
      "cell_type": "markdown",
      "metadata": {
        "id": "3ekjHwpMZPDQ",
        "colab_type": "text"
      },
      "source": [
        "**Swapping List**"
      ]
    },
    {
      "cell_type": "code",
      "metadata": {
        "id": "37iHYds0ZYFm",
        "colab_type": "code",
        "colab": {
          "base_uri": "https://localhost:8080/",
          "height": 51
        },
        "outputId": "43be749a-a152-4f8e-94a6-7a755e8a5f7d"
      },
      "source": [
        "a = [1, 2, 3]\n",
        "b = [3, 2, 1]\n",
        "a,b=b,a\n",
        "print(a)\n",
        "print(b)"
      ],
      "execution_count": 11,
      "outputs": [
        {
          "output_type": "stream",
          "text": [
            "[3, 2, 1]\n",
            "[1, 2, 3]\n"
          ],
          "name": "stdout"
        }
      ]
    },
    {
      "cell_type": "code",
      "metadata": {
        "id": "g9M5zOEvZGnL",
        "colab_type": "code",
        "colab": {}
      },
      "source": [
        ""
      ],
      "execution_count": null,
      "outputs": []
    },
    {
      "cell_type": "markdown",
      "metadata": {
        "id": "p-i0OdNnas91",
        "colab_type": "text"
      },
      "source": [
        "Alice, Bob and Carol have agreed to pool their Halloween candy and split it evenly among themselves. For the sake of their friendship, any candies left over will be smashed. For example, if they collectively bring home 91 candies, they'll take 30 each and smash 1.\n",
        "Write an arithmetic expression below to calculate how many candies they must smash for a given haul."
      ]
    },
    {
      "cell_type": "code",
      "metadata": {
        "id": "SWixoQwHa0mD",
        "colab_type": "code",
        "colab": {
          "base_uri": "https://localhost:8080/",
          "height": 34
        },
        "outputId": "f1200661-7be5-4c36-8225-fdec2a287504"
      },
      "source": [
        "# Variables representing the number of candies collected by alice, bob, and carol\n",
        "alice_candies = 121\n",
        "bob_candies = 77\n",
        "carol_candies = 109\n",
        "\n",
        "# Your code goes here! Replace the right-hand side of this assignment with an expression\n",
        "# involving alice_candies, bob_candies, and carol_candies\n",
        "to_smash = -1\n",
        "smash_candy=(alice_candies + bob_candies + carol_candies) % 3\n",
        "print(smash_candy)"
      ],
      "execution_count": 12,
      "outputs": [
        {
          "output_type": "stream",
          "text": [
            "1\n"
          ],
          "name": "stdout"
        }
      ]
    }
  ]
}